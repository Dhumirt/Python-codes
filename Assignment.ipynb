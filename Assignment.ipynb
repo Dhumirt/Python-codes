{
 "cells": [
  {
   "cell_type": "markdown",
   "metadata": {},
   "source": [
    "# 1 Set Operations:\n",
    "\n",
    "Create two sets of your favorite fruits.\n",
    "Write a function named print_unique_fruits that takes two sets as parameters and prints the unique fruits present in both sets.\n",
    "Call the function with your sets.\n"
   ]
  },
  {
   "cell_type": "code",
   "execution_count": null,
   "metadata": {},
   "outputs": [
    {
     "name": "stdout",
     "output_type": "stream",
     "text": [
      "Unique fruits {'grapes', 'watermelon', 'apple', 'orange'}\n"
     ]
    }
   ],
   "source": [
    "fruit1_set={'apple', 'banana', 'orange'}\n",
    "fruit2_set={'grapes', 'watermelon', 'banana'}\n",
    "\n",
    "def print_unique_fruits(fruit1_set, fruit2_set):\n",
    "    unique_fruits = fruit1_set.symmetric_difference(fruit2_set)\n",
    "    print(\"Unique fruits\",unique_fruits)\n",
    "\n",
    "print_unique_fruits(fruit1_set, fruit2_set)\n",
    "\n",
    "\n",
    "fruit3_set={'apple', 'banana', 'orange'}\n",
    "fruit4_set={'grapes', 'watermelon', 'banana'}\n",
    "\n",
    "def print_unique_fruits(fruit3_set, fruit4_set):\n",
    "    unique_fruits = fruit3_set.symmetric_difference(fruit4_set)\n",
    "    print(\"Unique fruits\",unique_fruits)\n",
    "\n",
    "print_unique_fruits(fruit3_set, fruit4_set)"
   ]
  },
  {
   "cell_type": "markdown",
   "metadata": {},
   "source": [
    "# 2 Set Intersection:\n",
    "\n",
    "Create two sets of numbers.\n",
    "Write a function named common_numbers that takes two sets as parameters and returns a new set containing the common numbers.\n",
    "Call the function with your sets and print the results."
   ]
  },
  {
   "cell_type": "code",
   "execution_count": 2,
   "metadata": {},
   "outputs": [
    {
     "name": "stdout",
     "output_type": "stream",
     "text": [
      "Union set {1, 2, 3, 4, 5, 6, 7, 8}\n"
     ]
    }
   ],
   "source": [
    "num1_set={1, 2, 3, 4, 5}\n",
    "num2_set={4, 5, 6, 7, 8}\n",
    "\n",
    "def print_union(num1_set, num2_set):\n",
    "    union_set = num1_set.union(num2_set)\n",
    "    print(\"Union set\",union_set)\n",
    "    \n",
    "print_union(num1_set, num2_set)\n"
   ]
  },
  {
   "cell_type": "markdown",
   "metadata": {},
   "source": [
    "#3 Set Difference:\n",
    "\n",
    "Create two sets of animals.\n",
    "Write a function named unique_animals that takes two sets as parameters and returns a new set containing the animals unique to each set.\n",
    "Call the function with your sets and print the results."
   ]
  },
  {
   "cell_type": "code",
   "execution_count": null,
   "metadata": {},
   "outputs": [],
   "source": [
    "animal1_set={'cat', 'dog', 'rabbit'}\n",
    "animal2_set={'dog', 'cow', 'horse'}\n",
    "\n"
   ]
  }
 ],
 "metadata": {
  "kernelspec": {
   "display_name": "Python 3",
   "language": "python",
   "name": "python3"
  },
  "language_info": {
   "codemirror_mode": {
    "name": "ipython",
    "version": 3
   },
   "file_extension": ".py",
   "mimetype": "text/x-python",
   "name": "python",
   "nbconvert_exporter": "python",
   "pygments_lexer": "ipython3",
   "version": "3.13.1"
  }
 },
 "nbformat": 4,
 "nbformat_minor": 2
}
