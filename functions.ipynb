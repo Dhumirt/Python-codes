{
 "cells": [
  {
   "cell_type": "markdown",
   "metadata": {},
   "source": [
    "\n",
    "# function\n",
    "\n",
    "# basic function \n",
    "\n",
    "# def functionName():\n",
    "#     output\n",
    "\n",
    "\n",
    "# calling a function\n",
    "# functionName()"
   ]
  },
  {
   "cell_type": "code",
   "execution_count": 3,
   "metadata": {},
   "outputs": [
    {
     "name": "stdout",
     "output_type": "stream",
     "text": [
      "Hello I am Dhrumit\n",
      "Hello I am Dhrumit\n"
     ]
    }
   ],
   "source": [
    "# example\n",
    "\n",
    "def my_function():\n",
    "    print(\"Hello I am Dhrumit\")\n",
    "\n",
    "my_function()    \n",
    "my_function()"
   ]
  },
  {
   "cell_type": "markdown",
   "metadata": {},
   "source": [
    "# function with arguments\n",
    "\n",
    "# what is arguments in function\n",
    "# arguments are the values that we pass to the function\n",
    "\n",
    "\n",
    "# def functionName(arg1, arg2):\n",
    "#     output"
   ]
  },
  {
   "cell_type": "code",
   "execution_count": 4,
   "metadata": {},
   "outputs": [
    {
     "name": "stdout",
     "output_type": "stream",
     "text": [
      "Name :- Dhrumit\n",
      "Marks :- 100\n",
      "Name :- john\n",
      "Marks :- 90\n",
      "Name :- jane\n",
      "Marks :- 80\n",
      "Name :- jill\n",
      "Marks :- 70\n",
      "Name :- jack\n",
      "Marks :- 60\n"
     ]
    }
   ],
   "source": [
    "# example 2\n",
    "\n",
    "def result(name,marks):\n",
    "    print(\"Name :-\",name)\n",
    "    print(\"Marks :-\",marks)\n",
    "\n",
    "#calling function\n",
    "result(\"Dhrumit\",100)\n",
    "result(\"john\",90)\n",
    "result(\"jane\",80)\n",
    "result(\"jill\",70)\n",
    "result(\"jack\",60)    "
   ]
  },
  {
   "cell_type": "markdown",
   "metadata": {},
   "source": [
    "# function with return statement\n",
    "\n",
    "# what is return statement in function\n",
    "# return statement is used to return the value from the function\n",
    "# return statement is optional in function"
   ]
  },
  {
   "cell_type": "code",
   "execution_count": 8,
   "metadata": {},
   "outputs": [
    {
     "name": "stdout",
     "output_type": "stream",
     "text": [
      "10\n",
      "10\n"
     ]
    }
   ],
   "source": [
    "# example 3\n",
    "\n",
    "def get_num():\n",
    "    return 10\n",
    "\n",
    "#calling function\n",
    "print(get_num())\n",
    "\n",
    "number=get_num()\n",
    "print(number)\n"
   ]
  },
  {
   "cell_type": "code",
   "execution_count": 14,
   "metadata": {},
   "outputs": [
    {
     "name": "stdout",
     "output_type": "stream",
     "text": [
      "30\n",
      "300\n"
     ]
    }
   ],
   "source": [
    "# function with arguments and return number\n",
    "\n",
    "def add(a,b):\n",
    "    return a+b\n",
    "\n",
    "#calling function\n",
    "\n",
    "result=add(10,20)\n",
    "print(result)\n",
    "\n",
    "print(add(100,200))"
   ]
  }
 ],
 "metadata": {
  "kernelspec": {
   "display_name": "Python 3",
   "language": "python",
   "name": "python3"
  },
  "language_info": {
   "codemirror_mode": {
    "name": "ipython",
    "version": 3
   },
   "file_extension": ".py",
   "mimetype": "text/x-python",
   "name": "python",
   "nbconvert_exporter": "python",
   "pygments_lexer": "ipython3",
   "version": "3.13.1"
  }
 },
 "nbformat": 4,
 "nbformat_minor": 2
}
