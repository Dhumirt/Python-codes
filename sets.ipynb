{
 "cells": [
  {
   "cell_type": "code",
   "execution_count": null,
   "metadata": {},
   "outputs": [],
   "source": [
    "# set in python\n",
    "# create a empty set\n",
    "\n",
    "data = {}\n",
    "# check data type \n",
    "print(type(data))  # <class 'dict'>\n",
    "\n",
    "data = set()\n",
    "# check data type\n",
    "print(type(data))  # <class 'set'>\n"
   ]
  },
  {
   "cell_type": "code",
   "execution_count": null,
   "metadata": {},
   "outputs": [],
   "source": [
    "# create a set \n",
    "mySet = {2, 2, 1, 4, 5, 6, 6, 6, 67, 7, 4, 6, 7, 7, 7}\n",
    "\n",
    "print(mySet)"
   ]
  },
  {
   "cell_type": "code",
   "execution_count": null,
   "metadata": {},
   "outputs": [],
   "source": [
    "listData = [2,2,1,4,5,6,6,6,67,7,4,6,7,7,7]\n",
    "mySet = set(listData)\n",
    "print(mySet)"
   ]
  },
  {
   "cell_type": "code",
   "execution_count": null,
   "metadata": {},
   "outputs": [],
   "source": [
    "data = {66, 99, 12, 45, 78, 88, 89, 444}\n",
    "\n",
    "# add()\n",
    "data.add(444)\n",
    "print(data)\n",
    "\n",
    "print(\"---------------------------------------------------------\")\n",
    "\n",
    "update_data = [99,88,66]\n",
    "\n",
    "# using update() method\n",
    "\n",
    "data.update(update_data)\n",
    "print(data)\n",
    "\n",
    "print(\"---------------------------------------------------------\")\n",
    "\n",
    "data.discard(777)\n",
    "print(data)\n",
    "\n",
    "print(\"---------------------------------------------------------\")\n",
    "\n",
    "data.remove(999)\n",
    "print(data)\n",
    "\n",
    "print(\"---------------------------------------------------------\")\n",
    "\n",
    "data.pop()\n",
    "print(data)\n",
    "\n",
    "print(\"---------------------------------------------------------\")\n",
    "\n",
    "data.clear()\n",
    "print(data)"
   ]
  }
 ],
 "metadata": {
  "kernelspec": {
   "display_name": "Python 3",
   "language": "python",
   "name": "python3"
  },
  "language_info": {
   "codemirror_mode": {
    "name": "ipython",
    "version": 3
   },
   "file_extension": ".py",
   "mimetype": "text/x-python",
   "name": "python",
   "nbconvert_exporter": "python",
   "pygments_lexer": "ipython3",
   "version": "3.13.1"
  }
 },
 "nbformat": 4,
 "nbformat_minor": 2
}
