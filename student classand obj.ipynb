{
 "cells": [
  {
   "cell_type": "code",
   "execution_count": null,
   "metadata": {},
   "outputs": [
    {
     "name": "stdout",
     "output_type": "stream",
     "text": [
      "Grade of student\n",
      "Percentage of student\n",
      "Total Marks of student\n",
      "Total Marks of student is 230\n",
      "Percentage of student is 76.66666666666667\n",
      "Grade B\n"
     ]
    },
    {
     "data": {
      "text/plain": [
       "76.66666666666667"
      ]
     },
     "execution_count": 27,
     "metadata": {},
     "output_type": "execute_result"
    }
   ],
   "source": [
    "# class student\n",
    "\n",
    "class Student:\n",
    "    def total(cs):\n",
    "        print(\"Total Marks of student\")\n",
    "        English =int(input(\"Enter the marks of English:\"))\n",
    "        Maths =int(input(\"Enter the marks of Maths:\"))\n",
    "        Science =int(input(\"Enter the marks of Science:\"))\n",
    "        total =English + Maths + Science\n",
    "        print(\"Total Marks of student is\", total)\n",
    "        \n",
    "        \n",
    "        return total\n",
    "\n",
    "    def percentage(cs):\n",
    "        print(\"Percentage of student\")\n",
    "        total_marks = cs.total()\n",
    "        percentage = (total_marks / 300) * 100\n",
    "        print(\"Percentage of student is\", percentage)\n",
    "        \n",
    "        return percentage\n",
    "\n",
    "\n",
    "    def grade(cs):\n",
    "        print(\"Grade of student\")\n",
    "        percentage = cs.percentage()\n",
    "        if percentage >= 80:\n",
    "            print(\"Grade A\")\n",
    "        elif percentage >= 60:\n",
    "            print(\"Grade B\")\n",
    "        elif percentage >= 40:\n",
    "            print(\"Grade C\")\n",
    "        else:\n",
    "            print(\"Fail\")\n",
    "        return percentage\n",
    "    \n",
    "s = Student()\n",
    "s.grade()\n"
   ]
  },
  {
   "cell_type": "code",
   "execution_count": null,
   "metadata": {},
   "outputs": [
    {
     "name": "stdout",
     "output_type": "stream",
     "text": [
      "Grade of student\n",
      "Percentage of student\n",
      "Total Marks of student\n",
      "Total Marks of student is 230\n",
      "Percentage of student is 76.66666666666667\n",
      "Grade B\n"
     ]
    }
   ],
   "source": [
    "class Student:\n",
    "    \n",
    "    def total(self):\n",
    "        print(\"Total Marks of student\")\n",
    "        English = 90\n",
    "        Maths = 80\n",
    "        Science = 60\n",
    "        total = English + Maths + Science\n",
    "        print(\"Total Marks of student is\", total)\n",
    "        return total\n",
    "    \n",
    "\n",
    "    def percentage(self):\n",
    "        print(\"Percentage of student\")\n",
    "        total = self.total()\n",
    "        percentage = (total / 300) * 100\n",
    "        print(\"Percentage of student is\", percentage)\n",
    "        return percentage\n",
    "\n",
    "\n",
    "    def grade(self):\n",
    "        print(\"Grade of student\")\n",
    "        percentage = self.percentage()\n",
    "        if percentage >= 80:\n",
    "            print(\"Grade A\")\n",
    "        elif percentage >= 60:\n",
    "            print(\"Grade B\")\n",
    "        elif percentage >= 40:\n",
    "            print(\"Grade C\")\n",
    "        else:\n",
    "            print(\"Fail\")\n",
    "\n",
    "# Create an instance of the Student class\n",
    "student = Student()\n",
    "student.grade()"
   ]
  }
 ],
 "metadata": {
  "kernelspec": {
   "display_name": "Python 3",
   "language": "python",
   "name": "python3"
  },
  "language_info": {
   "codemirror_mode": {
    "name": "ipython",
    "version": 3
   },
   "file_extension": ".py",
   "mimetype": "text/x-python",
   "name": "python",
   "nbconvert_exporter": "python",
   "pygments_lexer": "ipython3",
   "version": "3.13.1"
  }
 },
 "nbformat": 4,
 "nbformat_minor": 2
}
