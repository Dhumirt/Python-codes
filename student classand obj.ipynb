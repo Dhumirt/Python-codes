{
 "cells": [
  {
   "cell_type": "code",
   "execution_count": 24,
   "metadata": {},
   "outputs": [
    {
     "name": "stdout",
     "output_type": "stream",
     "text": [
      "Grade of student\n",
      "Percentage of student\n",
      "Total Marks of student\n",
      "Total Marks of student is 150\n",
      "Percentage of student is 50.0\n",
      "Grade C\n"
     ]
    },
    {
     "data": {
      "text/plain": [
       "50.0"
      ]
     },
     "execution_count": 24,
     "metadata": {},
     "output_type": "execute_result"
    }
   ],
   "source": [
    "# class student\n",
    "\n",
    "class Student:\n",
    "    def total(cs):\n",
    "        print(\"Total Marks of student\")\n",
    "        English = int(input(\"Enter English Marks: \"))\n",
    "        Maths = int(input(\"Enter Maths Marks: \"))\n",
    "        Science = int(input(\"Enter Science Marks: \"))\n",
    "        total =English + Maths + Science\n",
    "        print(\"Total Marks of student is\", total)\n",
    "        \n",
    "        \n",
    "        return total\n",
    "\n",
    "    def percentage(cs):\n",
    "        print(\"Percentage of student\")\n",
    "        total_marks = cs.total()\n",
    "        percentage = (total_marks / 300) * 100\n",
    "        print(\"Percentage of student is\", percentage)\n",
    "        \n",
    "        return percentage\n",
    "\n",
    "\n",
    "    def grade(cs):\n",
    "        print(\"Grade of student\")\n",
    "        percentage = cs.percentage()\n",
    "        if percentage >= 80:\n",
    "            print(\"Grade A\")\n",
    "        elif percentage >= 60:\n",
    "            print(\"Grade B\")\n",
    "        elif percentage >= 40:\n",
    "            print(\"Grade C\")\n",
    "        else:\n",
    "            print(\"Fail\")\n",
    "        return percentage\n",
    "    \n",
    "s = Student()\n",
    "s.grade()\n",
    "\n",
    "    \n"
   ]
  },
  {
   "cell_type": "code",
   "execution_count": 21,
   "metadata": {},
   "outputs": [
    {
     "name": "stdout",
     "output_type": "stream",
     "text": [
      "Grade of student\n",
      "Percentage of student\n",
      "Total Marks of student\n",
      "Total Marks of student is 170\n",
      "Percentage of student is 56.666666666666664\n",
      "Grade C\n"
     ]
    },
    {
     "data": {
      "text/plain": [
       "56.666666666666664"
      ]
     },
     "execution_count": 21,
     "metadata": {},
     "output_type": "execute_result"
    }
   ],
   "source": [
    "def get_valid_input(prompt):\n",
    "\twhile True:\n",
    "\t\ttry:\n",
    "\t\t\tvalue = int(input(prompt))\n",
    "\t\t\treturn value\n",
    "\t\texcept ValueError:\n",
    "\t\t\tprint(\"Invalid input. Please enter a valid integer.\")\n",
    "\n",
    "class Student:\n",
    "\tdef total(cs):\n",
    "\t\tprint(\"Total Marks of student\")\n",
    "\t\tEnglish = get_valid_input(\"Enter English Marks: \")\n",
    "\t\tMaths = get_valid_input(\"Enter Maths Marks: \")\n",
    "\t\tScience = get_valid_input(\"Enter Science Marks: \")\n",
    "\t\ttotal = English + Maths + Science\n",
    "\t\tprint(\"Total Marks of student is\", total)\n",
    "\t\treturn total\n",
    "\n",
    "\tdef percentage(cs):\n",
    "\t\tprint(\"Percentage of student\")\n",
    "\t\ttotal_marks = cs.total()\n",
    "\t\tpercentage = (total_marks / 300) * 100\n",
    "\t\tprint(\"Percentage of student is\", percentage)\n",
    "\t\treturn percentage\n",
    "\n",
    "\tdef grade(cs):\n",
    "\t\tprint(\"Grade of student\")\n",
    "\t\tpercentage = cs.percentage()\n",
    "\t\tif percentage >= 80:\n",
    "\t\t\tprint(\"Grade A\")\n",
    "\t\telif percentage >= 60:\n",
    "\t\t\tprint(\"Grade B\")\n",
    "\t\telif percentage >= 40:\n",
    "\t\t\tprint(\"Grade C\")\n",
    "\t\telse:\n",
    "\t\t\tprint(\"Fail\")\n",
    "\t\treturn percentage\n",
    "\n",
    "reportcard = Student()\n",
    "reportcard.grade()\n",
    "\n",
    "\n"
   ]
  }
 ],
 "metadata": {
  "kernelspec": {
   "display_name": "Python 3",
   "language": "python",
   "name": "python3"
  },
  "language_info": {
   "codemirror_mode": {
    "name": "ipython",
    "version": 3
   },
   "file_extension": ".py",
   "mimetype": "text/x-python",
   "name": "python",
   "nbconvert_exporter": "python",
   "pygments_lexer": "ipython3",
   "version": "3.13.1"
  }
 },
 "nbformat": 4,
 "nbformat_minor": 2
}
