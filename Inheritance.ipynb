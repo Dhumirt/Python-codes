{
 "cells": [
  {
   "cell_type": "code",
   "execution_count": 2,
   "metadata": {},
   "outputs": [
    {
     "name": "stdout",
     "output_type": "stream",
     "text": [
      "I am the parent class\n",
      "I am the child class\n"
     ]
    }
   ],
   "source": [
    "# Basics of Inheritance\n",
    "\n",
    "class Parent:\n",
    "    def parent_method(self):\n",
    "        print(\"I am the parent class\")\n",
    "\n",
    "class Child(Parent):\n",
    "    def child_method(self):\n",
    "        print(\"I am the child class\")\n",
    "\n",
    "child_instance = Child()\n",
    "child_instance.parent_method()\n",
    "child_instance.child_method()\n",
    "\n"
   ]
  },
  {
   "cell_type": "code",
   "execution_count": 8,
   "metadata": {},
   "outputs": [
    {
     "name": "stdout",
     "output_type": "stream",
     "text": [
      "Bank name = xyz\n",
      "Bank creadictcard = Axis\n",
      "Bank user name = dhruv\n",
      "user name = Dhruv\n",
      "Creaditcard no = 3241456664\n"
     ]
    }
   ],
   "source": [
    "# Simple Inheritance\n",
    "\n",
    "class bank:\n",
    "    def bank(self):\n",
    "        print(\"Bank name = xyz\")\n",
    "        print(\"Bank creadictcard = Axis\")\n",
    "        print(\"Bank user name = dhruv\")\n",
    "        \n",
    "class user(bank):\n",
    "    def customer(self):\n",
    "        print(\"user name = Dhruv\")\n",
    "        print(\"Creaditcard no = 3241456664\")\n",
    "\n",
    "mybank = user()\n",
    "mybank.bank()\n",
    "mybank.customer()\n",
    "\n",
    "\n"
   ]
  },
  {
   "cell_type": "code",
   "execution_count": 16,
   "metadata": {},
   "outputs": [
    {
     "name": "stdout",
     "output_type": "stream",
     "text": [
      "hondacity is one of the model.\n"
     ]
    }
   ],
   "source": [
    "# Inheritance in Python\n",
    "\n",
    "# 1  Single Inheritance\n",
    "\n",
    "class honda:\n",
    "    def method(self):\n",
    "        print(\"we make cars.\")\n",
    "\n",
    "class hondacity(honda):\n",
    "    def method(self):\n",
    "        print(\"hondacity is one of the model.\")\n",
    "\n",
    "car = hondacity()\n",
    "car.method()\n"
   ]
  },
  {
   "cell_type": "code",
   "execution_count": 26,
   "metadata": {},
   "outputs": [
    {
     "name": "stdout",
     "output_type": "stream",
     "text": [
      "Male lion\n",
      "female tiger\n"
     ]
    }
   ],
   "source": [
    "# 2  Multiple Inheritance\n",
    "\n",
    "class lion:\n",
    "    def lion(self):\n",
    "        print(\"Male lion\")\n",
    "class tiger:\n",
    "    def tiger(self):\n",
    "        print(\"female tiger\")\n",
    "        \n",
    "class liger(lion,tiger):\n",
    "    def liger(self):\n",
    "        print(\"i am the big cat\")\n",
    "\n",
    "\n",
    "liger_cat=liger()\n",
    "liger_cat.lion()\n",
    "liger_cat.tiger()\n"
   ]
  },
  {
   "cell_type": "code",
   "execution_count": 25,
   "metadata": {},
   "outputs": [
    {
     "name": "stdout",
     "output_type": "stream",
     "text": [
      "i am from stone age\n",
      "I am after sabertuth extent\n",
      "I am the new genration of big cat\n"
     ]
    }
   ],
   "source": [
    "# 3 Multilevel Inheritance\n",
    "\n",
    "class sabertuth:\n",
    "        def sabertuth(big_cat):\n",
    "            print(\"i am from stone age\")\n",
    "class tiger (sabertuth):\n",
    "        def tiger(big_cat):\n",
    "            print(\"I am after sabertuth extent\")\n",
    "class liger (tiger):\n",
    "        def liger(big_cat):\n",
    "            print(\"I am the new genration of big cat\")\n",
    "            \n",
    "big_cat=liger()\n",
    "big_cat.sabertuth()\n",
    "big_cat.tiger()\n",
    "big_cat.liger()          "
   ]
  },
  {
   "cell_type": "code",
   "execution_count": 27,
   "metadata": {},
   "outputs": [
    {
     "name": "stdout",
     "output_type": "stream",
     "text": [
      "i am the pops\n",
      "i am the pops\n"
     ]
    }
   ],
   "source": [
    "# 4 Hierarchical Inheritance\n",
    "class jon:\n",
    "    def jon(d):\n",
    "        print(\"i am the pops\")\n",
    "class jony(jon):\n",
    "    def jony(d):\n",
    "        print(\"i am the first son\")\n",
    "class jonyliver(jon):\n",
    "    def jonyliver(d):\n",
    "        print(\"i am the first son\")\n",
    "\n",
    "d_jony=jony()\n",
    "d_jonyliver=jonyliver()\n",
    "d_jony.jon()\n",
    "d_jonyliver.jon()"
   ]
  },
  {
   "cell_type": "code",
   "execution_count": 28,
   "metadata": {},
   "outputs": [
    {
     "name": "stdout",
     "output_type": "stream",
     "text": [
      "4 room\n"
     ]
    }
   ],
   "source": [
    "# 5 Hybrid Inheritance\n",
    "class gndfloor:\n",
    "    def gndfloor(a_wing):\n",
    "        print(\"4 room\")\n",
    "class firsthalffloor(gndfloor):\n",
    "    def firsthalffloor(a_wing):\n",
    "        print(\"2 room\")\n",
    "class seconfhalffloor(gndfloor):\n",
    "    def secondhalffloor(a_wing):\n",
    "        print(\"2 room\")\n",
    "\n",
    "class fullfloor(gndfloor):\n",
    "    def fullfloor(a_wing):\n",
    "        print(\"4 room\")\n",
    "\n",
    "frt_floor=fullfloor()\n",
    "frt_floor.gndfloor()\n",
    "\n"
   ]
  }
 ],
 "metadata": {
  "kernelspec": {
   "display_name": "Python 3",
   "language": "python",
   "name": "python3"
  },
  "language_info": {
   "codemirror_mode": {
    "name": "ipython",
    "version": 3
   },
   "file_extension": ".py",
   "mimetype": "text/x-python",
   "name": "python",
   "nbconvert_exporter": "python",
   "pygments_lexer": "ipython3",
   "version": "3.13.1"
  }
 },
 "nbformat": 4,
 "nbformat_minor": 2
}
