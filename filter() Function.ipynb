{
 "cells": [
  {
   "cell_type": "markdown",
   "metadata": {},
   "source": [
    "The filter() function is used to filter elements of an iterable based on a condition. It takes a function (which returns True or False) and an iterable.\n",
    "\n",
    "Syntax:\n",
    "filter(function, iterable)"
   ]
  },
  {
   "cell_type": "code",
   "execution_count": 1,
   "metadata": {},
   "outputs": [
    {
     "name": "stdout",
     "output_type": "stream",
     "text": [
      "[2, 4, 6, 8, 10]\n"
     ]
    }
   ],
   "source": [
    "# Filtering Even Numbers\n",
    "\n",
    "numbers = [1, 2, 3, 4, 5, 6, 7, 8, 9, 10]\n",
    "\n",
    "even_number=list(filter(lambda x:x%2==0,numbers))\n",
    "print(even_number)"
   ]
  },
  {
   "cell_type": "code",
   "execution_count": 7,
   "metadata": {},
   "outputs": [
    {
     "name": "stdout",
     "output_type": "stream",
     "text": [
      "['apple', 'avocado']\n"
     ]
    }
   ],
   "source": [
    "# Filtering Words\n",
    "\n",
    "words=[\"apple\", \"banana\", \"cherry\", \"avocado\"]\n",
    "\n",
    "filtered_words=list(filter(lambda word: word.startswith('a'),words))\n",
    "print(filtered_words)"
   ]
  }
 ],
 "metadata": {
  "kernelspec": {
   "display_name": "Python 3",
   "language": "python",
   "name": "python3"
  },
  "language_info": {
   "codemirror_mode": {
    "name": "ipython",
    "version": 3
   },
   "file_extension": ".py",
   "mimetype": "text/x-python",
   "name": "python",
   "nbconvert_exporter": "python",
   "pygments_lexer": "ipython3",
   "version": "3.13.2"
  }
 },
 "nbformat": 4,
 "nbformat_minor": 2
}
