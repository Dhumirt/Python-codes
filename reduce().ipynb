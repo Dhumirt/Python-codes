{
 "cells": [
  {
   "cell_type": "markdown",
   "metadata": {},
   "source": [
    "The reduce() function is used to apply a function cumulatively to the items in an iterable, reducing it to a single value.\n",
    "\n",
    "Syntax:\n",
    "from functools import\n",
    "reduce reduce(function, iterable)"
   ]
  },
  {
   "cell_type": "code",
   "execution_count": 3,
   "metadata": {},
   "outputs": [
    {
     "name": "stdout",
     "output_type": "stream",
     "text": [
      "15\n"
     ]
    }
   ],
   "source": [
    "from functools import reduce\n",
    "\n",
    "# Summing All Numbers\n",
    "\n",
    "numbers = [1, 2, 3, 4, 5]\n",
    "\n",
    "sum_result=reduce(lambda x, y: x + y, numbers)\n",
    "print(sum_result)"
   ]
  },
  {
   "cell_type": "code",
   "execution_count": 4,
   "metadata": {},
   "outputs": [
    {
     "name": "stdout",
     "output_type": "stream",
     "text": [
      "5\n"
     ]
    }
   ],
   "source": [
    "# Finding Maximum Value\n",
    "numbers = [1, 2, 3, 4, 5]\n",
    "\n",
    "max_result=reduce(lambda x, y: x if x > y else y, numbers)\n",
    "print(max_result)"
   ]
  }
 ],
 "metadata": {
  "kernelspec": {
   "display_name": "Python 3",
   "language": "python",
   "name": "python3"
  },
  "language_info": {
   "codemirror_mode": {
    "name": "ipython",
    "version": 3
   },
   "file_extension": ".py",
   "mimetype": "text/x-python",
   "name": "python",
   "nbconvert_exporter": "python",
   "pygments_lexer": "ipython3",
   "version": "3.13.2"
  }
 },
 "nbformat": 4,
 "nbformat_minor": 2
}
