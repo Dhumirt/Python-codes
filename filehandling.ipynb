{
 "cells": [
  {
   "cell_type": "code",
   "execution_count": 2,
   "metadata": {},
   "outputs": [
    {
     "ename": "ModuleNotFoundError",
     "evalue": "No module named 'pandas'",
     "output_type": "error",
     "traceback": [
      "\u001b[1;31m---------------------------------------------------------------------------\u001b[0m",
      "\u001b[1;31mModuleNotFoundError\u001b[0m                       Traceback (most recent call last)",
      "Cell \u001b[1;32mIn[2], line 5\u001b[0m\n\u001b[0;32m      1\u001b[0m \u001b[38;5;66;03m# File handling \u001b[39;00m\n\u001b[0;32m      2\u001b[0m \u001b[38;5;66;03m# read csv file \u001b[39;00m\n\u001b[1;32m----> 5\u001b[0m \u001b[38;5;28;01mimport\u001b[39;00m\u001b[38;5;250m \u001b[39m\u001b[38;5;21;01mpandas\u001b[39;00m\u001b[38;5;250m \u001b[39m\u001b[38;5;28;01mas\u001b[39;00m\u001b[38;5;250m \u001b[39m\u001b[38;5;21;01mpd\u001b[39;00m\n\u001b[0;32m      7\u001b[0m df \u001b[38;5;241m=\u001b[39m pd\u001b[38;5;241m.\u001b[39mread_csv(\u001b[38;5;124m\"\u001b[39m\u001b[38;5;124mEmployee_Salary_Dataset.csv\u001b[39m\u001b[38;5;124m\"\u001b[39m)\n\u001b[0;32m      8\u001b[0m \u001b[38;5;28mprint\u001b[39m(df\u001b[38;5;241m.\u001b[39mhead())\n",
      "\u001b[1;31mModuleNotFoundError\u001b[0m: No module named 'pandas'"
     ]
    }
   ],
   "source": [
    "# File handling \n",
    "# read csv file \n",
    "\n",
    "\n",
    "import pandas as pd\n",
    "\n",
    "df = pd.read_csv(\"Employee_Salary_Dataset.csv\")\n",
    "print(df.head())"
   ]
  },
  {
   "cell_type": "code",
   "execution_count": 3,
   "metadata": {},
   "outputs": [
    {
     "name": "stdout",
     "output_type": "stream",
     "text": [
      "Content has been written to the file.\n"
     ]
    }
   ],
   "source": [
    "# Open the file in write mode\n",
    "with open(\"p4n.txt\",\"w\") as file:\n",
    "    # Write content to the file\n",
    "    file.write(\"www.codeswithpankaj.com\\n\")\n",
    "    file.write(\"learning python with @p4n.\\n\")\n",
    "    file.write(\"www.p4n.in.\\n\")\n",
    "\n",
    "print(\"Content has been written to the file.\")"
   ]
  },
  {
   "cell_type": "code",
   "execution_count": 4,
   "metadata": {},
   "outputs": [
    {
     "name": "stdout",
     "output_type": "stream",
     "text": [
      "Content has been appended to the file.\n"
     ]
    }
   ],
   "source": [
    "# Appending to a File\n",
    "# Open the file in append mode\n",
    "with open(\"p4n.txt\",\"a\") as file:\n",
    "    # Append content to the file\n",
    "    file.write(\"python is best programming...\")\n",
    "print(\"Content has been appended to the file.\")  \n",
    " "
   ]
  },
  {
   "cell_type": "code",
   "execution_count": 5,
   "metadata": {},
   "outputs": [
    {
     "name": "stdout",
     "output_type": "stream",
     "text": [
      "www.codeswithpankaj.com\n",
      "learning python with @p4n.\n",
      "www.p4n.in.\n",
      "python is best programming...\n"
     ]
    }
   ],
   "source": [
    "# File Operation\n",
    "# Read File From System\n",
    "# Open the file in read mode\n",
    "with open(\"p4n.txt\",\"r\") as file:\n",
    "    # Read the entire content of the file\n",
    "    content = file.read()\n",
    "# print the content of file \n",
    "print(content)"
   ]
  },
  {
   "cell_type": "code",
   "execution_count": 11,
   "metadata": {},
   "outputs": [
    {
     "name": "stdout",
     "output_type": "stream",
     "text": [
      "-------------------read() method-------------------\n",
      "\n",
      "-------------------readline() method-------------------\n",
      "www.codeswithpankaj.com\n",
      "\n",
      "learning python with @p4n.\n",
      "\n",
      "-------------------readlines() method-------------------\n",
      "['www.codeswithpankaj.com\\n', 'learning python with @p4n.\\n', 'www.p4n.in.\\n', 'python is best programming...']\n"
     ]
    }
   ],
   "source": [
    "# Reading Files in Python\n",
    "#method\n",
    "# read()\n",
    "# readline()\n",
    "# readlines()\n",
    "\n",
    "print(\"-------------------read() method-------------------\")\n",
    "\n",
    "#read() method\n",
    "file=open(\"p4n.txt\",\"r\")\n",
    "content=file.read()\n",
    "print(file.read())\n",
    "file.close()\n",
    "\n",
    "print(\"-------------------readline() method-------------------\")\n",
    "\n",
    "# readline() method\n",
    "file=open(\"p4n.txt\",\"r\")\n",
    "line1=file.readline()\n",
    "line2=file.readline()\n",
    "print(line1)\n",
    "print(line2)\n",
    "file.close()\n",
    "\n",
    "print(\"-------------------readlines() method-------------------\")\n",
    "\n",
    "# readlines() method\n",
    "file=open(\"p4n.txt\",\"r\")\n",
    "lines=file.readlines()\n",
    "print(lines)\n",
    "file.close()\n"
   ]
  },
  {
   "cell_type": "code",
   "execution_count": 16,
   "metadata": {},
   "outputs": [
    {
     "name": "stdout",
     "output_type": "stream",
     "text": [
      "-------------------write() method-------------------\n",
      "Content has been written to the file.\n",
      "-------------------writelines() method-------------------\n",
      "Content has been written to the file.\n"
     ]
    }
   ],
   "source": [
    "# Writing to Files in Python\n",
    "#method\n",
    "# write()\n",
    "# writelines()\n",
    "\n",
    "print(\"-------------------write() method-------------------\")\n",
    "\n",
    "file=open(\"text1.txt\",\"w\")\n",
    "file.write(\"Hello, welcome to python programming.\\n\")\n",
    "file.write(\"Python is best programming language.\\n\")\n",
    "file.close()\n",
    "print(\"Content has been written to the file.\")\n",
    "\n",
    "# writelines() method\n",
    "print(\"-------------------writelines() method-------------------\")\n",
    "\n",
    "file=open(\"text1.txt\",\"w\")\n",
    "file.writelines([\"line1\\n\",\"line2\\n\",\"line3\\n\"])\n",
    "file.close()\n",
    "print(\"Content has been written to the file.\")\n"
   ]
  },
  {
   "cell_type": "code",
   "execution_count": 1,
   "metadata": {},
   "outputs": [
    {
     "name": "stdout",
     "output_type": "stream",
     "text": [
      "-------------------tell() method-------------------\n",
      "0\n",
      "Paragraphs\n",
      "What\n"
     ]
    }
   ],
   "source": [
    "# Working with File Pointers: seek() and tell()\n",
    "#tell() method\n",
    "print(\"-------------------tell() method-------------------\")\n",
    "file=open(\"text2.txt\",\"r\", encoding='utf-8')\n",
    "print(file.tell())\n",
    "print(file.read(15))\n",
    "file.close()\n",
    "\n"
   ]
  },
  {
   "cell_type": "code",
   "execution_count": 40,
   "metadata": {},
   "outputs": [
    {
     "name": "stdout",
     "output_type": "stream",
     "text": [
      "-------------------seek() method-------------------\n",
      "120\n",
      "strongrparagraphs, \n",
      "nd how to completely and clearly express your ideas.\n",
      "What is a paragraph?\n",
      "Paragraphs are the building blocks of papers. Many students d\n",
      "efine paragraphs in terms of length: a paragraph is a group o\n",
      "f at least five sentences, a paragraph is half a page long, \n",
      "etc. In reality, though, the unity and coherence of ideas among sentences is what constitutes \n",
      "a paragraph. A paragraph is defined as “a group of sentences or a single sentence that forms \n",
      "a unit” (Lunsford and Connors 116). Length and appearance do not determine whether a section\n",
      " in a paper is a paragraph. For instance, in some styles of writing, particularly journalistic\n",
      "  styles, a paragraph can be just one sentence long. Ultimately, a paragraph is a sentence or\n",
      "  group of sentences that support one main idea. In this handout, we will refer to this as the\n",
      "   “controlling idea,” because it controls what happens in the rest of the\n",
      "Paragraphs\n",
      "What this handout is about\n",
      "This handout will help you understand how paragraphs are formed, how to develop stronger paragraphs, and how to completely and clearly express your ideas.\n",
      "\n",
      "What is a paragraph?\n",
      "Paragraphs are the building blocks of papers. Many students d\n",
      "efine paragraphs in terms of length: a paragraph is a group o\n",
      "f at least five sentences, a paragraph is half a page long, \n",
      "etc. In reality, though, the unity and coherence of ideas among sentences is what constitutes \n",
      "a paragraph. A paragraph is defined as “a group of sentences or a single sentence that forms \n",
      "a unit” (Lunsford and Connors 116). Length and appearance do not determine whether a section\n",
      " in a paper is a paragraph. For instance, in some styles of writing, particularly journalistic\n",
      "  styles, a paragraph can be just one sentence long. Ultimately, a paragraph is a sentence or\n",
      "  group of sentences that support one main idea. In this handout, we will refer to this as the\n",
      "   “controlling idea,” because it controls what happens in the rest of the\n",
      "   Paragraphs\n",
      "What this handout is about\n",
      "This handout will help you understand how paragraphs are formed, how to develop stronger paragraphs, and how to completely and clearly express your ideas.\n",
      "\n",
      "What is a paragraph?\n",
      "Paragraphs are the building blocks of papers. Many students d\n",
      "efine paragraphs in terms of length: a paragraph is a group o\n",
      "f at least five sentences, a paragraph is half a page long, \n",
      "etc. In reality, though, the unity and coherence of ideas among sentences is what constitutes \n",
      "a paragraph. A paragraph is defined as “a group of sentences or a single sentence that forms \n",
      "a unit” (Lunsford and Connors 116). Length and appearance do not determine whether a section\n",
      " in a paper is a paragraph. For instance, in some styles of writing, particularly journalistic\n",
      "  styles, a paragraph can be just one sentence long. Ultimately, a paragraph is a sentence or\n",
      "  group of sentences that support one main idea. In this handout, we will refer to this as the\n",
      "   “controlling idea,” because it controls what happens in the rest of the\n"
     ]
    },
    {
     "data": {
      "text/plain": [
       "0"
      ]
     },
     "execution_count": 40,
     "metadata": {},
     "output_type": "execute_result"
    }
   ],
   "source": [
    "#seek() method\n",
    "print(\"-------------------seek() method-------------------\")\n",
    "file=open(\"text2.txt\",\"r\",encoding='utf-8')\n",
    "print(file.seek(120))\n",
    "print(file.read())\n",
    "file.seek(0)\n"
   ]
  },
  {
   "cell_type": "code",
   "execution_count": null,
   "metadata": {},
   "outputs": [],
   "source": [
    "# Pickling & Unpickling (Storing Python Objects)\n",
    "#Pickling (Saving Object)\n",
    "\n",
    "import pickle\n",
    "data = {\"name\": \"Dhrumit\", \"age\": 25, \"city\": \"Ahmedabad\"}\n",
    "file = open(\"data.pkl\",\"wb\")\n",
    "pickle.dump(data,file)\n",
    "\n"
   ]
  },
  {
   "cell_type": "code",
   "execution_count": 44,
   "metadata": {},
   "outputs": [
    {
     "name": "stdout",
     "output_type": "stream",
     "text": [
      "{'name': 'Dhrumit', 'age': 25, 'city': 'Ahmedabad'}\n"
     ]
    }
   ],
   "source": [
    "# Unpickling (Loading Object)\n",
    "file = open(\"data.pkl\",\"rb\")\n",
    "data = pickle.load(file)    \n",
    "print(data)"
   ]
  }
 ],
 "metadata": {
  "kernelspec": {
   "display_name": "Python 3",
   "language": "python",
   "name": "python3"
  },
  "language_info": {
   "codemirror_mode": {
    "name": "ipython",
    "version": 3
   },
   "file_extension": ".py",
   "mimetype": "text/x-python",
   "name": "python",
   "nbconvert_exporter": "python",
   "pygments_lexer": "ipython3",
   "version": "3.13.2"
  }
 },
 "nbformat": 4,
 "nbformat_minor": 2
}
