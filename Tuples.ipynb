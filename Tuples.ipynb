{
 "cells": [
  {
   "cell_type": "code",
   "execution_count": 6,
   "metadata": {},
   "outputs": [
    {
     "name": "stdout",
     "output_type": "stream",
     "text": [
      "()\n",
      "<class 'tuple'>\n",
      "(1, 2, 3, 4, 5)\n",
      "1\n",
      "2\n",
      "4\n",
      "(1, 2, 3)\n",
      "(3, 4, 5)\n",
      "(1, 'hello', 3.14, True)\n",
      "(1, 2, (3, 4), 5)\n",
      "1\n",
      "2\n",
      "2\n",
      "2\n",
      "4\n"
     ]
    }
   ],
   "source": [
    "# tuples in python \n",
    "\n",
    "#tuples are immutable, meaning they cannot be changed after creation\n",
    "# tuples are defined by enclosing elements in parentheses ( ) instead of square brackets [ ] like lists\n",
    "\n",
    "# creating a tuple\n",
    "\n",
    "# empty tuple\n",
    "\n",
    "data = ()\n",
    "print(data)\n",
    "\n",
    "# check type \n",
    "print(type(data))\n",
    "\n",
    "# create a tuple\n",
    "data = (1, 2, 3, 4, 5)\n",
    "print(data)\n",
    "\n",
    "# access elements in a tuple\n",
    "print(data[0])\n",
    "print(data[1])\n",
    "print(data[3])\n",
    "\n",
    "# slicing a tuple\n",
    "print(data[0:3])\n",
    "print(data[2:5])\n",
    "\n",
    "# tuple with mixed data types\n",
    "data = (1, 'hello', 3.14, True)\n",
    "print(data)\n",
    "\n",
    "# nested tuple\n",
    "data = (1, 2, (3, 4), 5)\n",
    "print(data)\n",
    "\n",
    "# tuple unpacking\n",
    "data = (1, 2, 3, 4, 5)\n",
    "# unpacking a tuple into separate variables\n",
    "a, b, c, d, e = data\n",
    "print(a)\n",
    "\n",
    "# count() method\n",
    "data = (1, 2, 3, 4, 5, 1, 2, 3, 4, 5)\n",
    "print(data.count(1))\n",
    "print(data.count(3))\n",
    "\n",
    "# index() method\n",
    "data = (1, 2, 3, 4, 5)\n",
    "print(data.index(3))\n",
    "print(data.index(5))\n",
    "\n",
    "\n"
   ]
  }
 ],
 "metadata": {
  "kernelspec": {
   "display_name": "Python 3",
   "language": "python",
   "name": "python3"
  },
  "language_info": {
   "codemirror_mode": {
    "name": "ipython",
    "version": 3
   },
   "file_extension": ".py",
   "mimetype": "text/x-python",
   "name": "python",
   "nbconvert_exporter": "python",
   "pygments_lexer": "ipython3",
   "version": "3.13.1"
  }
 },
 "nbformat": 4,
 "nbformat_minor": 2
}
