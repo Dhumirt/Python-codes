{
 "cells": [
  {
   "cell_type": "code",
   "execution_count": 1,
   "metadata": {},
   "outputs": [
    {
     "name": "stdout",
     "output_type": "stream",
     "text": [
      "my name is :  Dhrumit\n",
      "my age is :  18\n",
      "my height is : 5.5\n"
     ]
    }
   ],
   "source": [
    "name = input('enter your name ')\n",
    "age = input('enter your age ')\n",
    "height = input('enter your height ')\n",
    "\n",
    "print(\"my name is : \",name)\n",
    "print(\"my age is : \",age)\n",
    "print(\"my height is :\",height)"
   ]
  },
  {
   "cell_type": "code",
   "execution_count": 3,
   "metadata": {},
   "outputs": [
    {
     "name": "stdout",
     "output_type": "stream",
     "text": [
      "<class 'str'>\n",
      "<class 'str'>\n"
     ]
    }
   ],
   "source": [
    "print(type(age))\n",
    "print(type(height))"
   ]
  },
  {
   "cell_type": "code",
   "execution_count": 4,
   "metadata": {},
   "outputs": [
    {
     "name": "stdout",
     "output_type": "stream",
     "text": [
      "my name is :  dhrumit\n",
      "my age is :  18\n",
      "my height is : 5.5\n"
     ]
    }
   ],
   "source": [
    "# type\n",
    "\n",
    "# int()\n",
    "# float()\n",
    "# str()\n",
    "\n",
    "name = str(input('enter your name '))\n",
    "age = int(input('enter your age '))\n",
    "height = float(input('enter your height '))\n",
    "\n",
    "print(\"my name is : \",name)\n",
    "print(\"my age is : \",age)\n",
    "print(\"my height is :\",height)"
   ]
  },
  {
   "cell_type": "code",
   "execution_count": 5,
   "metadata": {},
   "outputs": [
    {
     "name": "stdout",
     "output_type": "stream",
     "text": [
      "<class 'int'>\n",
      "<class 'float'>\n"
     ]
    }
   ],
   "source": [
    "print(type(age))\n",
    "print(type(height))"
   ]
  }
 ],
 "metadata": {
  "kernelspec": {
   "display_name": "Python 3",
   "language": "python",
   "name": "python3"
  },
  "language_info": {
   "codemirror_mode": {
    "name": "ipython",
    "version": 3
   },
   "file_extension": ".py",
   "mimetype": "text/x-python",
   "name": "python",
   "nbconvert_exporter": "python",
   "pygments_lexer": "ipython3",
   "version": "3.13.1"
  }
 },
 "nbformat": 4,
 "nbformat_minor": 2
}
