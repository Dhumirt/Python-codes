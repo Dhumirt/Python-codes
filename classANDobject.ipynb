{
 "cells": [
  {
   "cell_type": "code",
   "execution_count": 8,
   "metadata": {},
   "outputs": [],
   "source": [
    "#class and object function\n",
    "\n",
    "class bank:\n",
    "    def info():\n",
    "        print(\"Bank Information\")\n",
    "        print(\"Bank Name: SBI Bnak\")\n",
    "        print(\"Bank Address: 123 mainroad\")\n",
    "    def Creditcard():\n",
    "        print(\"Creditcard Information\")\n",
    "        print(\"Creditcard Name: SBI Creditcard\")\n",
    "        print(\"creditcard no:6454-9537-3564-4543\")\n",
    "    def Cardlimit():\n",
    "        print(\"Card limit: ₹5,00,000\")"
   ]
  },
  {
   "cell_type": "code",
   "execution_count": 14,
   "metadata": {},
   "outputs": [
    {
     "name": "stdout",
     "output_type": "stream",
     "text": [
      "----------------------------\n",
      "Bank Information\n",
      "Bank Name: SBI Bnak\n",
      "Bank Address: 123 mainroad\n",
      "----------------------------\n",
      "Creditcard Information\n",
      "Creditcard Name: SBI Creditcard\n",
      "creditcard no:6454-9537-3564-4543\n",
      "Card limit: ₹5,00,000\n"
     ]
    }
   ],
   "source": [
    "#create an object \n",
    "print\n",
    "Mybank = bank\n",
    "print(\"----------------------------\")\n",
    "Mybank.info()\n",
    "print(\"----------------------------\")\n",
    "Mybank.Creditcard()\n",
    "Mybank.Cardlimit()\n"
   ]
  },
  {
   "cell_type": "code",
   "execution_count": 15,
   "metadata": {},
   "outputs": [],
   "source": [
    "# construction function\n",
    "\n",
    "class creditcard:\n",
    "    def __init__(self):\n",
    "        print(\"Bank name: SBI\")\n",
    "    def cardinfo(self):\n",
    "        print(\"Creditcard name: SBI Creditcard\")\n",
    "        print(\"Creditcard no: 6454-9537-3564-4543\")\n",
    "        print(\"card type: Gold\")\n",
    "    def cardlimit(self):\n",
    "        print(\"Card limit: ₹5,00,000\")"
   ]
  },
  {
   "cell_type": "code",
   "execution_count": 16,
   "metadata": {},
   "outputs": [
    {
     "name": "stdout",
     "output_type": "stream",
     "text": [
      "Bank name: SBI\n",
      "Creditcard name: SBI Creditcard\n",
      "Creditcard no: 6454-9537-3564-4543\n",
      "card type: Gold\n",
      "Card limit: ₹5,00,000\n"
     ]
    }
   ],
   "source": [
    "cd=creditcard()\n",
    "cd.cardinfo()\n",
    "cd.cardlimit()"
   ]
  }
 ],
 "metadata": {
  "kernelspec": {
   "display_name": "Python 3",
   "language": "python",
   "name": "python3"
  },
  "language_info": {
   "codemirror_mode": {
    "name": "ipython",
    "version": 3
   },
   "file_extension": ".py",
   "mimetype": "text/x-python",
   "name": "python",
   "nbconvert_exporter": "python",
   "pygments_lexer": "ipython3",
   "version": "3.13.1"
  }
 },
 "nbformat": 4,
 "nbformat_minor": 2
}
