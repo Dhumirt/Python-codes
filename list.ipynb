{
 "cells": [
  {
   "cell_type": "code",
   "execution_count": 1,
   "metadata": {},
   "outputs": [
    {
     "name": "stdout",
     "output_type": "stream",
     "text": [
      "[]\n"
     ]
    }
   ],
   "source": [
    "# List in python \n",
    "\n",
    "# what is list \n",
    "# list is a collection of items which can be of any data type including strings, integers, floats, etc.\n",
    "# list is mutable, which means that you can change the value of elements in a list.\n",
    "\n",
    "# create a list \n",
    "# empty list\n",
    "\n",
    "my_list = []\n",
    "print(my_list)\n",
    "\n",
    "# integer list\n",
    "\n",
    "num_list = [1, 2, 3, 4, 5]\n",
    "print(num_list)\n",
    "\n",
    "# string list\n",
    "\n",
    "str_list = ['C', 'C++', 'Java', 'Python']\n",
    "print(str_list)\n",
    "\n",
    "\n",
    "# float list\n",
    "\n",
    "float_list = [1.1, 2.2, 3.3, 4.4, 5.5]\n",
    "print(float_list)\n",
    "\n",
    "\n",
    "\n",
    "#mixed list\n",
    "\n",
    "mixed_list = [1, 'C', 2.2, 'Python']\n",
    "print(mixed_list)"
   ]
  },
  {
   "cell_type": "code",
   "execution_count": 6,
   "metadata": {},
   "outputs": [
    {
     "name": "stdout",
     "output_type": "stream",
     "text": [
      "[[1, 2, 3], [4, 5, 6], [7, 8, 9]]\n"
     ]
    }
   ],
   "source": [
    "# nested list\n",
    "\n",
    "nested_list = [[1, 2, 3], [4, 5, 6], [7, 8, 9]]\n",
    "print(nested_list)"
   ]
  },
  {
   "cell_type": "code",
   "execution_count": 8,
   "metadata": {},
   "outputs": [
    {
     "name": "stdout",
     "output_type": "stream",
     "text": [
      "apple\n",
      "banana\n",
      "grapes\n",
      "dates\n"
     ]
    }
   ],
   "source": [
    "# accessing elements of list\n",
    "\n",
    "# positive indexing\n",
    "# index starts from 0\n",
    "# index 0 is the first element of the list\n",
    "\n",
    "fruits = ['apple', 'banana', 'cherry', 'dates', 'grapes']\n",
    "#+ve index   0        1         2         3        4\n",
    "print(fruits[0])\n",
    "\n",
    "print(fruits[1])\n",
    "\n",
    "# negative indexing\n",
    "# index starts from -1\n",
    "# index -1 is the last element of the list\n",
    "#-ve index   -5       -4       -3       -2       -1\n",
    "fruits = ['apple', 'banana', 'cherry', 'dates', 'grapes']\n",
    "print(fruits[-1])\n",
    "\n",
    "print(fruits[-2])\n"
   ]
  },
  {
   "cell_type": "code",
   "execution_count": 9,
   "metadata": {},
   "outputs": [
    {
     "name": "stdout",
     "output_type": "stream",
     "text": [
      "['banana', 'cherry', 'dates']\n",
      "['apple', 'banana', 'cherry']\n",
      "['cherry', 'dates', 'grapes']\n",
      "['apple', 'banana', 'cherry', 'dates', 'grapes']\n"
     ]
    }
   ],
   "source": [
    "#sliceing list\n",
    "\n",
    "print(fruits[1:4])\n",
    "\n",
    "print(fruits[:3])\n",
    "\n",
    "print(fruits[2:])\n",
    "\n",
    "print(fruits[:])\n",
    "\n"
   ]
  },
  {
   "cell_type": "code",
   "execution_count": 15,
   "metadata": {},
   "outputs": [
    {
     "name": "stdout",
     "output_type": "stream",
     "text": [
      "['apple', 'banana', 'cherry', 'dates', 'grapes']\n",
      "['apple', 'banana', 'cherry', 'dates', 'grapes', 'kiwi']\n",
      "['apple', 'banana', 'mango', 'cherry', 'dates', 'grapes', 'kiwi']\n",
      "['apple', 'banana', 'mango', 'cherry', 'dates', 'grapes', 'kiwi', 'orange', 'papaya', 'pineapple']\n"
     ]
    }
   ],
   "source": [
    "# add a new element to the list\n",
    "\n",
    "# append() method\n",
    "# add an element to the end of the list\n",
    "\n",
    "fruits = ['apple', 'banana', 'cherry', 'dates', 'grapes']\n",
    "print(fruits)\n",
    "\n",
    "fruits.append('kiwi')\n",
    "print(fruits)\n",
    "\n",
    "\n",
    "# use insert() method to add an element at a specific index\n",
    "\n",
    "fruits.insert(2, 'mango')\n",
    "print(fruits)\n",
    "\n",
    "# extend() method\n",
    "# add multiple elements to the end of the list\n",
    "\n",
    "fruits.extend(['orange', 'papaya', 'pineapple'])\n",
    "print(fruits)"
   ]
  },
  {
   "cell_type": "code",
   "execution_count": 16,
   "metadata": {},
   "outputs": [
    {
     "name": "stdout",
     "output_type": "stream",
     "text": [
      "['apple', 'banana', 'mango', 'cherry', 'grapes', 'kiwi', 'orange', 'papaya', 'pineapple']\n"
     ]
    }
   ],
   "source": [
    "# remove elements from the list\n",
    "fruits.remove('dates')\n",
    "print(fruits)"
   ]
  },
  {
   "cell_type": "code",
   "execution_count": 17,
   "metadata": {},
   "outputs": [
    {
     "name": "stdout",
     "output_type": "stream",
     "text": [
      "['apple', 'banana', 'mango', 'cherry', 'grapes', 'kiwi', 'orange', 'papaya']\n"
     ]
    }
   ],
   "source": [
    "# remove the last element from the list\n",
    "fruits.pop()\n",
    "print(fruits)"
   ]
  },
  {
   "cell_type": "code",
   "execution_count": 20,
   "metadata": {},
   "outputs": [
    {
     "name": "stdout",
     "output_type": "stream",
     "text": [
      "['apple', 'banana', 'cherry', 'grapes', 'papaya']\n"
     ]
    }
   ],
   "source": [
    "# remove the element at a specific index\n",
    "fruits.pop(4)\n",
    "print(fruits)"
   ]
  },
  {
   "cell_type": "code",
   "execution_count": 21,
   "metadata": {},
   "outputs": [
    {
     "name": "stdout",
     "output_type": "stream",
     "text": [
      "[]\n"
     ]
    }
   ],
   "source": [
    "# remove all elements from the list\n",
    "fruits.clear()\n",
    "print(fruits)"
   ]
  },
  {
   "cell_type": "code",
   "execution_count": 22,
   "metadata": {},
   "outputs": [
    {
     "name": "stdout",
     "output_type": "stream",
     "text": [
      "1\n",
      "2\n",
      "3\n",
      "4\n",
      "5\n",
      "6\n",
      "7\n",
      "8\n",
      "9\n",
      "10\n"
     ]
    }
   ],
   "source": [
    "# print in a loop\n",
    "\n",
    "num_list = [1, 2, 3, 4, 5, 6, 7, 8, 9, 10]\n",
    "for number in num_list:\n",
    "    print(number)"
   ]
  },
  {
   "cell_type": "code",
   "execution_count": 23,
   "metadata": {},
   "outputs": [
    {
     "name": "stdout",
     "output_type": "stream",
     "text": [
      "a\n",
      "b\n",
      "c\n",
      "d\n",
      "f\n"
     ]
    }
   ],
   "source": [
    "# take input from user and store in a list\n",
    "\n",
    "my_list = []\n",
    "\n",
    "iterms = int(input(\"Enter your iterms:- \"))\n",
    "\n",
    "for i in range(iterms):\n",
    "    element = input(\"Enter element:- \")\n",
    "    my_list.append(element)\n",
    "    \n",
    "    \n",
    "for i in my_list:\n",
    "    print(i)    "
   ]
  }
 ],
 "metadata": {
  "kernelspec": {
   "display_name": "Python 3",
   "language": "python",
   "name": "python3"
  },
  "language_info": {
   "codemirror_mode": {
    "name": "ipython",
    "version": 3
   },
   "file_extension": ".py",
   "mimetype": "text/x-python",
   "name": "python",
   "nbconvert_exporter": "python",
   "pygments_lexer": "ipython3",
   "version": "3.13.1"
  }
 },
 "nbformat": 4,
 "nbformat_minor": 2
}
