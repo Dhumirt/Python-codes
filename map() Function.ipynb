{
 "cells": [
  {
   "cell_type": "markdown",
   "metadata": {},
   "source": [
    "The map() function applies a given function to all items in an iterable and returns a new iterable with modified values.\n",
    "\n",
    "Syntax:\n",
    "map(function, iterable)"
   ]
  },
  {
   "cell_type": "code",
   "execution_count": 1,
   "metadata": {},
   "outputs": [
    {
     "name": "stdout",
     "output_type": "stream",
     "text": [
      "[1, 4, 9, 16, 25, 36, 49, 64, 81, 100]\n"
     ]
    }
   ],
   "source": [
    "# Squaring Numbers\n",
    "\n",
    "numbers=[1,2,3,4,5,6,7,8,9,10]\n",
    "squared_numbers = list(map(lambda x:x**2,numbers))\n",
    "print(squared_numbers)"
   ]
  },
  {
   "cell_type": "code",
   "execution_count": 2,
   "metadata": {},
   "outputs": [
    {
     "name": "stdout",
     "output_type": "stream",
     "text": [
      "['PYTHON', 'IS', 'AWESOME']\n"
     ]
    }
   ],
   "source": [
    "# Converting Strings to Uppercase\n",
    "\n",
    "words=['python','is','awesome']\n",
    "upper_words = list(map(lambda x:x.upper(),words))\n",
    "print(upper_words)"
   ]
  }
 ],
 "metadata": {
  "kernelspec": {
   "display_name": "Python 3",
   "language": "python",
   "name": "python3"
  },
  "language_info": {
   "codemirror_mode": {
    "name": "ipython",
    "version": 3
   },
   "file_extension": ".py",
   "mimetype": "text/x-python",
   "name": "python",
   "nbconvert_exporter": "python",
   "pygments_lexer": "ipython3",
   "version": "3.13.2"
  }
 },
 "nbformat": 4,
 "nbformat_minor": 2
}
