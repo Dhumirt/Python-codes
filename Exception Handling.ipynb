{
 "cells": [
  {
   "cell_type": "code",
   "execution_count": null,
   "metadata": {},
   "outputs": [
    {
     "name": "stdout",
     "output_type": "stream",
     "text": [
      "You entered: 2\n",
      "That was not a number Plz enter an number .\n"
     ]
    }
   ],
   "source": [
    "# Example of an exception\n",
    "number = int(input(\"Enter a number: \"))\n",
    "print(\"You entered:\", number)\n",
    "#if we put an alpabat it will give an error\n",
    "#ValueError: invalid literal for int() with base 10: 'a'\n",
    "\n",
    "    "
   ]
  },
  {
   "cell_type": "code",
   "execution_count": 4,
   "metadata": {},
   "outputs": [
    {
     "name": "stdout",
     "output_type": "stream",
     "text": [
      "That was not a number Plz enter an number .\n"
     ]
    }
   ],
   "source": [
    "#so we use the Exception Handling in Python\n",
    "try:\n",
    "    number = int(input(\"Enter a number: \"))\n",
    "    print(\"You entered:\", number)\n",
    "except ValueError:\n",
    "    print(\"That was not a number Plz enter an number .\")"
   ]
  },
  {
   "cell_type": "code",
   "execution_count": 6,
   "metadata": {},
   "outputs": [
    {
     "name": "stdout",
     "output_type": "stream",
     "text": [
      "You entered: 2\n",
      "The finally block always executes!\n"
     ]
    }
   ],
   "source": [
    "# In total there are of 3 types of exception handling in python\n",
    "#1. try\n",
    "#2. except\n",
    "#3. finally\n",
    "\n",
    "#try: This block of code will test for errors\n",
    "#except: This block of code will execute if there is an error in the try block\n",
    "#finally: This block of code will execute\n",
    "\n",
    "#Example of try, except and finally\n",
    "try:\n",
    "    number = int(input(\"Enter a number: \"))\n",
    "    print(\"You entered:\", number)\n",
    "except ValueError:\n",
    "    print(\"That was not a number Plz enter an number .\")\n",
    "finally:\n",
    "    print(\"The finally block always executes!\")"
   ]
  },
  {
   "cell_type": "code",
   "execution_count": 11,
   "metadata": {},
   "outputs": [
    {
     "name": "stdout",
     "output_type": "stream",
     "text": [
      "My name is tutl \n",
      "and age 15\n"
     ]
    }
   ],
   "source": [
    "try:\n",
    "    name = str(input(\"Enter your name \"))\n",
    "    age = int(input(\"Enter Your Age \"))\n",
    "\n",
    "\n",
    "\n",
    "    print(f'My name is {name} \\nand age {age}')\n",
    "except ValueError:\n",
    "    print(\"Invalid input\")"
   ]
  },
  {
   "cell_type": "code",
   "execution_count": 14,
   "metadata": {},
   "outputs": [
    {
     "name": "stdout",
     "output_type": "stream",
     "text": [
      "Height cannot be zero\n"
     ]
    }
   ],
   "source": [
    "try:\n",
    "    name = str(input(\"Enter your name \"))\n",
    "    age = int(input(\"Enter Your Age \"))\n",
    "    height = int(input(\"Enter Your Height \"))\n",
    "\n",
    "    BMI = age/height;\n",
    "\n",
    "    print(f'My name is {name} and age {age}')\n",
    "    print(f'BMI = {BMI}')\n",
    "except ValueError:\n",
    "    print(\"Invalid input\")\n",
    "except ZeroDivisionError:\n",
    "    print(\"Height cannot be zero\")"
   ]
  }
 ],
 "metadata": {
  "kernelspec": {
   "display_name": "Python 3",
   "language": "python",
   "name": "python3"
  },
  "language_info": {
   "codemirror_mode": {
    "name": "ipython",
    "version": 3
   },
   "file_extension": ".py",
   "mimetype": "text/x-python",
   "name": "python",
   "nbconvert_exporter": "python",
   "pygments_lexer": "ipython3",
   "version": "3.13.1"
  }
 },
 "nbformat": 4,
 "nbformat_minor": 2
}
