{
 "cells": [
  {
   "cell_type": "code",
   "execution_count": 1,
   "metadata": {},
   "outputs": [
    {
     "name": "stdout",
     "output_type": "stream",
     "text": [
      "a is less than b\n"
     ]
    }
   ],
   "source": [
    "# IF statement\n",
    "\n",
    "a = 70\n",
    "b = 80\n",
    "\n",
    "if a < b:\n",
    "    print (\"a is less than b\")"
   ]
  },
  {
   "cell_type": "code",
   "execution_count": 2,
   "metadata": {},
   "outputs": [
    {
     "name": "stdout",
     "output_type": "stream",
     "text": [
      "a is less than b\n"
     ]
    }
   ],
   "source": [
    "# IF ELSE statement\n",
    "\n",
    "if a > b:\n",
    "    print (\"a is greater than b\")\n",
    "else:\n",
    "    print (\"a is less than b\")"
   ]
  },
  {
   "cell_type": "code",
   "execution_count": 5,
   "metadata": {},
   "outputs": [
    {
     "name": "stdout",
     "output_type": "stream",
     "text": [
      "C is greater than A\n"
     ]
    }
   ],
   "source": [
    "# ELIF statement\n",
    "a = 80\n",
    "b = 15\n",
    "c = 90\n",
    "\n",
    "if a < b:\n",
    "    print (\"B is greater than A\")\n",
    "elif a < c:\n",
    "    print (\"C is greater than A\")\n",
    "else:\n",
    "    print (\"A is greater than B and C\")\n"
   ]
  },
  {
   "cell_type": "code",
   "execution_count": 6,
   "metadata": {},
   "outputs": [
    {
     "name": "stdout",
     "output_type": "stream",
     "text": [
      "B is greater than A and C\n"
     ]
    }
   ],
   "source": [
    "# Nested IF statement\n",
    "\n",
    "a = 100\n",
    "b = 500\n",
    "c = 300\n",
    "\n",
    "if a > b:\n",
    "    if a > c:\n",
    "        print (\"A is greater than B and C\")\n",
    "    else:\n",
    "        print (\"C is greater than A and B\")\n",
    "else:\n",
    "    if b > c:\n",
    "        print (\"B is greater than A and C\")\n",
    "    else:\n",
    "        print (\"C is greater than A and B\")"
   ]
  },
  {
   "cell_type": "code",
   "execution_count": 32,
   "metadata": {},
   "outputs": [
    {
     "name": "stdout",
     "output_type": "stream",
     "text": [
      "(type the number which you want to lnow hat is even or odd)\n",
      "The number is odd\n"
     ]
    }
   ],
   "source": [
    "# Pratice Exercise\n",
    "# 1 quation checking even or odd number\n",
    "number=int(input(\"Enter the number\"))\n",
    "print(\"(type the number which you want to lnow hat is even or odd)\")\n",
    "\n",
    "if number %2 == 0:\n",
    "    print (\"The number is even\")\n",
    "else:\n",
    "    print (\"The number is odd\")    "
   ]
  },
  {
   "cell_type": "code",
   "execution_count": 34,
   "metadata": {},
   "outputs": [
    {
     "name": "stdout",
     "output_type": "stream",
     "text": [
      "Grade A+\n"
     ]
    }
   ],
   "source": [
    "# 2 quation Grading System\n",
    "\n",
    "marks = int(input(\"Enter the marks\"))\n",
    "\n",
    "if marks >= 90:\n",
    "    print (\"Grade A+\")\n",
    "elif marks > 80 and marks < 90:\n",
    "    print (\"Grade A\") \n",
    "elif marks >= 65 and marks <= 80:\n",
    "    print (\"Grade B\")\n",
    "elif marks >= 50 and marks < 65:\n",
    "    print (\"Grade C\")\n",
    "elif marks >= 35 and marks < 50:\n",
    "    print (\"pass\")\n",
    "else:\n",
    "    print (\"Fail\")"
   ]
  },
  {
   "cell_type": "code",
   "execution_count": 43,
   "metadata": {},
   "outputs": [
    {
     "name": "stdout",
     "output_type": "stream",
     "text": [
      "Total marks is 50\n",
      "Percentage is 12.5\n",
      "Fail\n"
     ]
    }
   ],
   "source": [
    "# Quation 3\n",
    "\n",
    "Subject1 = int(input(\"Enter the marks of Subject1\"))\n",
    "Subject2 = int(input(\"Enter the marks of Subject2\"))\n",
    "Subject3 = int(input(\"Enter the marks of Subject3\"))\n",
    "Subject4 = int(input(\"Enter the marks of Subject4\"))\n",
    "\n",
    "total = Subject1 + Subject2 + Subject3 + Subject4\n",
    "\n",
    "percentage = (total/400)*100\n",
    "\n",
    "print (\"Total marks is\", total)\n",
    "print (\"Percentage is\", percentage)\n",
    "\n",
    "percentage = (total/400)*100\n",
    "\n",
    "if percentage >= 90:\n",
    "    print (\"Grade A^+\")\n",
    "elif percentage > 80 and  percentage< 90:\n",
    "    print (\"Grade A\") \n",
    "elif percentage >= 65 and percentage <= 80:\n",
    "    print (\"Grade B\")\n",
    "elif percentage >= 50 and percentage < 65:\n",
    "    print (\"Grade C\")\n",
    "elif percentage >= 35 and percentage < 50:\n",
    "    print (\"pass\")\n",
    "else:\n",
    "    print (\"Fail\")"
   ]
  }
 ],
 "metadata": {
  "kernelspec": {
   "display_name": "Python 3",
   "language": "python",
   "name": "python3"
  },
  "language_info": {
   "codemirror_mode": {
    "name": "ipython",
    "version": 3
   },
   "file_extension": ".py",
   "mimetype": "text/x-python",
   "name": "python",
   "nbconvert_exporter": "python",
   "pygments_lexer": "ipython3",
   "version": "3.13.1"
  }
 },
 "nbformat": 4,
 "nbformat_minor": 2
}
