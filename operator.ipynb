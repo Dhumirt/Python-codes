{
 "cells": [
  {
   "cell_type": "code",
   "execution_count": 5,
   "metadata": {},
   "outputs": [
    {
     "name": "stdout",
     "output_type": "stream",
     "text": [
      "1:-  +  670\n",
      "2:-  -  630\n",
      "3:-  /  32.5\n",
      "4:-  *  13000\n",
      "5:-  **  181245458363349909198770523071289062500000000000000000000\n",
      "6:-  //  32\n",
      "7:-  %  10\n"
     ]
    }
   ],
   "source": [
    "# operator in python \n",
    "\n",
    "# Arithmetic Operators\n",
    "\n",
    "a = 650\n",
    "b = 20\n",
    "\n",
    "print(\"1:-\",\" + \",a+b)\n",
    "print(\"2:-\",\" - \",a-b)\n",
    "print(\"3:-\",\" / \",a/b)\n",
    "print(\"4:-\",\" * \",a*b)\n",
    "print(\"5:-\",\" ** \",a**b)\n",
    "print(\"6:-\",\" // \",a//b)\n",
    "print(\"7:-\",\" % \",a%b)\n",
    "\n"
   ]
  },
  {
   "cell_type": "code",
   "execution_count": 7,
   "metadata": {},
   "outputs": [
    {
     "name": "stdout",
     "output_type": "stream",
     "text": [
      " ==  False\n",
      " !=  True\n",
      " <  True\n",
      " >  False\n",
      " <=  True\n",
      " >=  False\n"
     ]
    }
   ],
   "source": [
    "\n",
    "# Comparison Operators\n",
    "    \n",
    "num1 = 51\n",
    "num2 = 65\n",
    "\n",
    "print(\" == \", num1 == num2)\n",
    "print(\" != \", num1 != num2)\n",
    "print(\" < \", num1 < num2)\n",
    "print(\" > \", num1 > num2)\n",
    "print(\" <= \", num1 <= num2)\n",
    "print(\" >= \", num1 >= num2)"
   ]
  },
  {
   "cell_type": "code",
   "execution_count": 8,
   "metadata": {},
   "outputs": [
    {
     "name": "stdout",
     "output_type": "stream",
     "text": [
      "False\n",
      "True\n",
      "True\n"
     ]
    }
   ],
   "source": [
    "# Logical Operators\n",
    "\n",
    "# AND function\n",
    "\n",
    "print(13 == 56 and 65 >8)\n",
    "\n",
    "# OR function\n",
    "\n",
    "print(56 == 64 or 64 != 654)\n",
    "\n",
    "# NOT function\n",
    "\n",
    "print(not 76>988)"
   ]
  },
  {
   "cell_type": "code",
   "execution_count": 9,
   "metadata": {},
   "outputs": [
    {
     "name": "stdout",
     "output_type": "stream",
     "text": [
      "False\n",
      "True\n",
      "False\n",
      "True\n",
      "False\n",
      "True\n"
     ]
    }
   ],
   "source": [
    "# AND Logical Operators\n",
    "a = 65\n",
    "b = 54\n",
    "\n",
    "print(a == b)\n",
    "print(a != b)\n",
    "print(a < b)\n",
    "print(a > b)\n",
    "print(a <= b)\n",
    "print(a >= b)"
   ]
  },
  {
   "cell_type": "code",
   "execution_count": null,
   "metadata": {},
   "outputs": [],
   "source": [
    "# OR Logical Operators\n",
    "a = 65\n",
    "b = 54\n",
    "\n",
    "print(a == b)\n",
    "print(a != b)\n",
    "print(a < b)\n",
    "print(a > b)\n",
    "print(a <= b)\n",
    "print(a >= b)\n"
   ]
  },
  {
   "cell_type": "code",
   "execution_count": 11,
   "metadata": {},
   "outputs": [
    {
     "name": "stdout",
     "output_type": "stream",
     "text": [
      "65\n",
      "70\n",
      "65\n",
      "325\n",
      "65.0\n",
      "0.0\n",
      "0.0\n",
      "0.0\n"
     ]
    }
   ],
   "source": [
    "# Assginment operators\n",
    "a = 65\n",
    "print(a)\n",
    "\n",
    "a += 5\n",
    "print(a)\n",
    "\n",
    "a -= 5\n",
    "print(a)\n",
    "\n",
    "a *= 5\n",
    "print(a)\n",
    "\n",
    "a /= 5\n",
    "print(a)\n",
    "\n",
    "a %= 5\n",
    "print(a)\n",
    "\n",
    "a //= 5\n",
    "print(a)\n",
    "\n",
    "a **= 5\n",
    "print(a)\n",
    "\n"
   ]
  },
  {
   "cell_type": "code",
   "execution_count": 34,
   "metadata": {},
   "outputs": [
    {
     "name": "stdout",
     "output_type": "stream",
     "text": [
      "True\n",
      "False\n",
      "-------------------------------------------------------------\n",
      "True\n",
      "False\n",
      "-------------------------------------------------------------\n",
      "True\n",
      "False\n",
      "-------------------------------------------------------------\n",
      "True\n",
      "True\n"
     ]
    }
   ],
   "source": [
    "# Identity Operators\n",
    "\n",
    "a = 65\n",
    "b = a\n",
    "c = 65\n",
    "\n",
    "print(a is b)\n",
    "print(a is not b)\n",
    "print(\"-------------------------------------------------------------\")\n",
    "print (a is c)\n",
    "print (a is not c)\n",
    "print(\"-------------------------------------------------------------\")\n",
    "print (b is c)\n",
    "print (b is not c)\n",
    "\n",
    "\n",
    "\n",
    "print(\"-------------------------------------------------------------\")\n",
    "\n",
    "# Membership Operators\n",
    "\n",
    "Name = \"Python\"\n",
    "\n",
    "print(\"n\" in Name)\n",
    "\n",
    "print(\"d\" not in Name)\n"
   ]
  }
 ],
 "metadata": {
  "kernelspec": {
   "display_name": "Python 3",
   "language": "python",
   "name": "python3"
  },
  "language_info": {
   "codemirror_mode": {
    "name": "ipython",
    "version": 3
   },
   "file_extension": ".py",
   "mimetype": "text/x-python",
   "name": "python",
   "nbconvert_exporter": "python",
   "pygments_lexer": "ipython3",
   "version": "3.13.1"
  }
 },
 "nbformat": 4,
 "nbformat_minor": 2
}
